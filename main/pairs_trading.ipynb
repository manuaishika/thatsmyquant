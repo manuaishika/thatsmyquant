{
 "cells": [
  {
   "cell_type": "code",
   "execution_count": null,
   "id": "666a708f",
   "metadata": {},
   "outputs": [
    {
     "ename": "",
     "evalue": "",
     "output_type": "error",
     "traceback": [
      "\u001b[1;31mRunning cells with 'Python 3.13.3' requires the ipykernel package.\n",
      "\u001b[1;31m<a href='command:jupyter.createPythonEnvAndSelectController'>Create a Python Environment</a> with the required packages.\n",
      "\u001b[1;31mOr install 'ipykernel' using the command: 'c:/Python313/python3.13t.exe -m pip install ipykernel -U --user --force-reinstall'"
     ]
    }
   ],
   "source": [
    "!pip install yfinance\n",
    "\n",
    "import yfinance as yf\n",
    "import pandas as pd\n",
    "import numpy as np\n",
    "import matplotlib.pyplot as plt\n",
    "\n",
    "start_date = \"2020-01-01\"\n",
    "end_date = \"2023-12-31\"\n",
    "ticker1 = \"KO\"   \n",
    "ticker2 = \"PEP\" \n",
    "\n",
    "data1 = yf.download(ticker1, start=start_date, end=end_date)[\"Adj Close\"]\n",
    "data2 = yf.download(ticker2, start=start_date, end=end_date)[\"Adj Close\"]\n",
    "\n",
    "\n",
    "df = pd.DataFrame({ticker1: data1, ticker2: data2}).dropna()\n",
    "df = df.rename(columns={ticker1: \"KO\", ticker2: \"PEP\"})\n",
    "df = df.reset_index()\n",
    "df.plot(figsize=(12,6), title=\"Stock Prices: KO vs PEP\")\n",
    "plt.grid()\n",
    "plt.show()\n",
    "\n",
    "\n",
    "df[\"spread\"] = df[ticker1] - df[ticker2]\n",
    "mean = df[\"spread\"].mean()\n",
    "std = df[\"spread\"].std()\n",
    "df[\"z_score\"] = (df[\"spread\"] - mean) / std\n",
    "\n",
    "\n",
    "df[\"long\"] = df[\"z_score\"] < -1\n",
    "df[\"short\"] = df[\"z_score\"] > 1\n",
    "df[\"exit\"] = df[\"z_score\"].abs() < 0.5\n",
    "\n",
    "\n",
    "df[\"z_score\"].plot(figsize=(12,6), title=\"Z-Score of Spread\")\n",
    "plt.axhline(1, color='r', linestyle='--')\n",
    "plt.axhline(-1, color='g', linestyle='--')\n",
    "plt.axhline(0, color='black', linestyle='-')\n",
    "plt.grid()\n",
    "plt.show()\n",
    " # pnl calculation\n",
    "position = 0\n",
    "pnl = []\n",
    "for i in range(len(df)):\n",
    "    if df[\"long\"][i]:\n",
    "        position = 1\n",
    "    elif df[\"short\"][i]:\n",
    "        position = -1\n",
    "    elif df[\"exit\"][i]:\n",
    "        position = 0\n",
    "    pnl.append(position * df[\"spread\"].diff().fillna(0)[i])\n",
    "\n",
    "df[\"PnL\"] = pnl\n",
    "df[\"Cum_PnL\"] = df[\"PnL\"].cumsum()\n",
    "\n",
    "\n",
    "df[\"Cum_PnL\"].plot(figsize=(12,6), title=\"Cumulative PnL\")\n",
    "plt.grid()\n",
    "plt.show()\n"
   ]
  },
  {
   "cell_type": "code",
   "execution_count": null,
   "id": "e51d7685",
   "metadata": {},
   "outputs": [],
   "source": []
  }
 ],
 "metadata": {
  "kernelspec": {
   "display_name": "Python 3",
   "language": "python",
   "name": "python3"
  },
  "language_info": {
   "name": "python",
   "version": "3.13.3"
  }
 },
 "nbformat": 4,
 "nbformat_minor": 5
}
